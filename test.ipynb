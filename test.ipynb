{
 "cells": [
  {
   "cell_type": "markdown",
   "metadata": {},
   "source": [
    "<img style=\"float: right;width: 100px\" src=\"https://www.enib.fr/images/logo-enib-accueil.jpg\">\n",
    "\n",
    "<div style=\"text-align: center;padding-bottom:20px;padding-top:10px\">\n",
    "    <h1>Test ENIB Python LIB</h1>\n",
    "</div>\n",
    "\n",
    "This notebook illustrates the functionnalities of the ENIB ASN Python lib for interactive plotting based on Ploty. In addition to the standard Anaconda, this library has the following dependancies\n",
    "\n",
    "* Python control\n",
    "* Plotly\n",
    "\n",
    "These two libraries can be install through `conda` or `pip`."
   ]
  },
  {
   "cell_type": "code",
   "execution_count": null,
   "metadata": {},
   "outputs": [],
   "source": [
    "import numpy as np\n",
    "import ENIB_control as plt\n",
    "from ipywidgets import interact\n",
    "from control import * #Matlab-like but not recommended"
   ]
  },
  {
   "cell_type": "markdown",
   "metadata": {},
   "source": [
    "## Getting Started"
   ]
  },
  {
   "cell_type": "markdown",
   "metadata": {},
   "source": [
    "The syntax for system creation with python control is similar to matlab"
   ]
  },
  {
   "cell_type": "code",
   "execution_count": null,
   "metadata": {},
   "outputs": [],
   "source": [
    "sys1 = tf([3],[2,2,1])\n",
    "sys2 = feedback(sys1,1)"
   ]
  },
  {
   "cell_type": "markdown",
   "metadata": {},
   "source": [
    "### Poles and Zeros\n",
    "\n",
    "The `pzmap` function can be used to plot the poles/zeros diagram."
   ]
  },
  {
   "cell_type": "code",
   "execution_count": null,
   "metadata": {},
   "outputs": [],
   "source": [
    "plt.pzmap([sys1,sys2])"
   ]
  },
  {
   "cell_type": "markdown",
   "metadata": {},
   "source": [
    "The function `damp` of the python control library can be used to extract the damping caracteristics of the poles"
   ]
  },
  {
   "cell_type": "code",
   "execution_count": null,
   "metadata": {},
   "outputs": [],
   "source": [
    "damp(sys1)\n",
    "damp(sys2);"
   ]
  },
  {
   "cell_type": "markdown",
   "metadata": {},
   "source": [
    "### Impulse Reponse\n",
    "\n",
    "The `impulse` function can be used to plot the impulse response"
   ]
  },
  {
   "cell_type": "code",
   "execution_count": null,
   "metadata": {},
   "outputs": [],
   "source": [
    "plt.impulse([sys1,sys2])"
   ]
  },
  {
   "cell_type": "markdown",
   "metadata": {},
   "source": [
    "### Step Response\n",
    "\n",
    "The `step` function can be used to plot the step response"
   ]
  },
  {
   "cell_type": "code",
   "execution_count": null,
   "metadata": {},
   "outputs": [],
   "source": [
    "plt.step([sys1,sys2])"
   ]
  },
  {
   "cell_type": "markdown",
   "metadata": {},
   "source": [
    "If the number of points is not sufficient, the time base can be specified explicitely during the call of the `step` function."
   ]
  },
  {
   "cell_type": "code",
   "execution_count": null,
   "metadata": {},
   "outputs": [],
   "source": [
    "plt.step([sys1,sys2],T=np.arange(0,10,0.001))"
   ]
  },
  {
   "cell_type": "markdown",
   "metadata": {},
   "source": [
    "The function `step_info`of the python control lib can be used to extract the parameters of the step response."
   ]
  },
  {
   "cell_type": "code",
   "execution_count": null,
   "metadata": {},
   "outputs": [],
   "source": [
    "step_info(sys1,SettlingTimeThreshold=0.05)"
   ]
  },
  {
   "cell_type": "code",
   "execution_count": null,
   "metadata": {},
   "outputs": [],
   "source": [
    "step_info(sys2,SettlingTimeThreshold=0.05)"
   ]
  },
  {
   "cell_type": "markdown",
   "metadata": {},
   "source": [
    "### Bode\n",
    "\n",
    "The `bode` function can be used to plot the step response"
   ]
  },
  {
   "cell_type": "code",
   "execution_count": null,
   "metadata": {},
   "outputs": [],
   "source": [
    "plt.bode([sys1,sys2])"
   ]
  },
  {
   "cell_type": "markdown",
   "metadata": {},
   "source": [
    "### Black Nichols\n",
    "\n",
    "The `nichols` function can be used to plot the black nichols representation."
   ]
  },
  {
   "cell_type": "code",
   "execution_count": null,
   "metadata": {},
   "outputs": [],
   "source": [
    "cl_mags = [6,0,-1,-2,-5,-10,-20]\n",
    "plt.nichols([sys1], cl_mags = cl_mags)"
   ]
  },
  {
   "cell_type": "markdown",
   "metadata": {},
   "source": [
    "## Compatibility with interact"
   ]
  },
  {
   "cell_type": "markdown",
   "metadata": {},
   "source": [
    "All the plotting function can be used with the `interact` decorator of jupyter."
   ]
  },
  {
   "cell_type": "code",
   "execution_count": null,
   "metadata": {},
   "outputs": [],
   "source": [
    "@interact(Ki=(0,10,0.1),Ti=(0,20,0.5))\n",
    "def plot_step(K=5.,Ti=4.):\n",
    "    C = tf([K*Ti,K],[Ti,0])\n",
    "    sys3 = feedback(C*sys1,1)\n",
    "    plt.step([sys1,sys3],T=np.arange(0,15,0.05))"
   ]
  }
 ],
 "metadata": {
  "kernelspec": {
   "display_name": "Python 3",
   "language": "python",
   "name": "python3"
  },
  "language_info": {
   "codemirror_mode": {
    "name": "ipython",
    "version": 3
   },
   "file_extension": ".py",
   "mimetype": "text/x-python",
   "name": "python",
   "nbconvert_exporter": "python",
   "pygments_lexer": "ipython3",
   "version": "3.7.3"
  }
 },
 "nbformat": 4,
 "nbformat_minor": 2
}
